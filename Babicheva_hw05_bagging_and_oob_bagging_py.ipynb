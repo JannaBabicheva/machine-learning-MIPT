{
  "nbformat": 4,
  "nbformat_minor": 0,
  "metadata": {
    "colab": {
      "provenance": [],
      "authorship_tag": "ABX9TyPzsZPaUq5SzuTow0JIUHSQ",
      "include_colab_link": true
    },
    "kernelspec": {
      "name": "python3",
      "display_name": "Python 3"
    },
    "language_info": {
      "name": "python"
    }
  },
  "cells": [
    {
      "cell_type": "markdown",
      "metadata": {
        "id": "view-in-github",
        "colab_type": "text"
      },
      "source": [
        "<a href=\"https://colab.research.google.com/github/JannaBabicheva/machine-learning-MIPT/blob/main/Babicheva_hw05_bagging_and_oob_bagging_py.ipynb\" target=\"_parent\"><img src=\"https://colab.research.google.com/assets/colab-badge.svg\" alt=\"Open In Colab\"/></a>"
      ]
    },
    {
      "cell_type": "markdown",
      "source": [
        "Simplified BaggingRegressor"
      ],
      "metadata": {
        "id": "Aozzhstua9ta"
      }
    },
    {
      "cell_type": "code",
      "source": [
        "import numpy as np\n",
        "\n",
        "class SimplifiedBaggingRegressor:\n",
        "    def __init__(self, num_bags, oob=False):\n",
        "        self.num_bags = num_bags\n",
        "        self.oob = oob\n",
        "\n",
        "    def _generate_splits(self, data: np.ndarray):\n",
        "        '''\n",
        "        Generate indices for every bag and store in self.indices_list list.\n",
        "        '''\n",
        "        self.indices_list = []\n",
        "        data_length = len(data)\n",
        "        for bag in range(self.num_bags):\n",
        "            # Generate random indices with replacement\n",
        "            indices = np.random.randint(0, data_length, data_length)\n",
        "            self.indices_list.append(indices)\n",
        "\n",
        "    def fit(self, model_constructor, data, target):\n",
        "        '''\n",
        "        Fit model on every bag.\n",
        "        Model constructor with no parameters (and with no ()) is passed to this function.\n",
        "\n",
        "        example:\n",
        "\n",
        "        bagging_regressor = SimplifiedBaggingRegressor(num_bags=10, oob=True)\n",
        "        bagging_regressor.fit(LinearRegression, X, y)\n",
        "        '''\n",
        "        self.data = None\n",
        "        self.target = None\n",
        "        self._generate_splits(data)\n",
        "        assert len(set(list(map(len, self.indices_list)))) == 1, 'All bags should be of the same length!'\n",
        "        assert list(map(len, self.indices_list))[0] == len(data), 'All bags should contain `len(data)` number of elements!'\n",
        "        self.models_list = []\n",
        "        for bag in range(self.num_bags):\n",
        "            model = model_constructor()\n",
        "            indices = self.indices_list[bag]\n",
        "            data_bag, target_bag = data[indices], target[indices]\n",
        "            self.models_list.append(model.fit(data_bag, target_bag))\n",
        "        if self.oob:\n",
        "            self.data = data\n",
        "            self.target = target\n",
        "\n",
        "    def predict(self, data):\n",
        "        '''\n",
        "        Get average prediction for every object from passed dataset\n",
        "        '''\n",
        "        predictions = np.zeros((data.shape[0], self.num_bags))\n",
        "        for i, model in enumerate(self.models_list):\n",
        "            predictions[:, i] = model.predict(data)\n",
        "        return np.mean(predictions, axis=1)\n",
        "\n",
        "    def _get_oob_predictions_from_every_model(self):\n",
        "        '''\n",
        "        Generates list of lists, where list i contains predictions for self.data[i] object\n",
        "        from all models, which have not seen this object during training phase.\n",
        "        '''\n",
        "        list_of_predictions_lists = [[] for _ in range(len(self.data))]\n",
        "        for i, model in enumerate(self.models_list):\n",
        "            oob_indices = np.setdiff1d(np.arange(len(self.data)), self.indices_list[i])  # Indices not in the bag\n",
        "            if len(oob_indices) > 0:\n",
        "                predictions = model.predict(self.data[oob_indices])\n",
        "                for idx, prediction in zip(oob_indices, predictions):\n",
        "                    list_of_predictions_lists[idx].append(prediction)\n",
        "\n",
        "        self.list_of_predictions_lists = np.array(list_of_predictions_lists, dtype=object)\n",
        "\n",
        "    def _get_averaged_oob_predictions(self):\n",
        "        '''\n",
        "        Compute average prediction for every object from training set.\n",
        "        If object has been used in all bags on training phase, return None instead of prediction.\n",
        "        '''\n",
        "        self._get_oob_predictions_from_every_model()\n",
        "        self.oob_predictions = np.array([\n",
        "            np.mean(predictions) if len(predictions) > 0 else None\n",
        "            for predictions in self.list_of_predictions_lists\n",
        "        ])\n",
        "\n",
        "    def OOB_score(self):\n",
        "        '''\n",
        "        Compute mean square error for all objects, which have at least one prediction.\n",
        "        '''\n",
        "        self._get_averaged_oob_predictions()\n",
        "        errors = []\n",
        "        for i in range(len(self.oob_predictions)):\n",
        "            if self.oob_predictions[i] is not None:\n",
        "                error = (self.oob_predictions[i] - self.target[i])**2\n",
        "                errors.append(error)\n",
        "        return np.mean(errors) if errors else None"
      ],
      "metadata": {
        "id": "eRWBGAD_aah7"
      },
      "execution_count": null,
      "outputs": []
    },
    {
      "cell_type": "markdown",
      "source": [
        "\n",
        "_generate_splits: Этот метод генерирует случайные индексы для формирования образцов с заменой для каждого пакета.\n",
        "\n",
        "fit: для каждой модели, которая должна быть подогнана, используются соответствующие индексы для выбора данных и целевых образцов и подгонки модели.\n",
        "\n",
        "predict: использует средние прогнозы по всем установленным моделям для заданных данных.\n",
        "\n",
        "_get_oob_predictions_from_every_model и _get_averaged_oob_predictions: Эти методы вычисляют прогнозы \"вне пакета\" для точек данных, которые не были включены в соответствующие пакеты.\n",
        "\n",
        "OOB_score: Вычисляет среднеквадратичную ошибку прогнозов, полученных при отсутствии пакета, по сравнению с фактическими целевыми показателями.\n",
        "\n",
        "\n",
        "Эти реализации дополняют различные функциональные возможности, ожидаемые от базового baggingregressor, такие как загрузка образцов в пакеты, составление прогнозов и вычисление ошибок OOB.\n",
        "\n",
        "model_constructor, передаваемый в fit, должен быть классом model, способным выполнять методы fit и predict, типичные для интерфейса scikit-learn."
      ],
      "metadata": {
        "id": "lCzGzQ-Rbwc9"
      }
    }
  ]
}