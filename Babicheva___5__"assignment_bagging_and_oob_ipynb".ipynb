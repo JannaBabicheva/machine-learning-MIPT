{
  "cells": [
    {
      "cell_type": "markdown",
      "metadata": {
        "id": "view-in-github",
        "colab_type": "text"
      },
      "source": [
        "<a href=\"https://colab.research.google.com/github/JannaBabicheva/machine-learning-MIPT/blob/main/Babicheva___5__%22assignment_bagging_and_oob_ipynb%22.ipynb\" target=\"_parent\"><img src=\"https://colab.research.google.com/assets/colab-badge.svg\" alt=\"Open In Colab\"/></a>"
      ]
    },
    {
      "cell_type": "markdown",
      "id": "119c9460",
      "metadata": {
        "id": "119c9460"
      },
      "source": [
        "## Home assignment 05: Bagging and OOB score\n",
        "\n",
        "Please, fill the lines in the code below.\n",
        "This is a simplified version of `BaggingRegressor` from `sklearn`. Please, notice, that `sklearn` API is **not preserved**.\n",
        "\n",
        "Your algorithm should be able to train different instances of the same model class on bootstrapped datasets and to provide [OOB score](https://en.wikipedia.org/wiki/Out-of-bag_error) for the training set.\n",
        "\n",
        "The model should be passed as model class with no explicit parameters and no parentheses.\n",
        "\n",
        "Example:\n",
        "```\n",
        "import numpy as np\n",
        "from sklearn.linear_model import LinearRegression\n",
        "\n",
        "bagging_regressor = SimplifiedBaggingRegressor(num_bags=10, oob=True)\n",
        "bagging_regressor.fit(LinearRegression, X, y)\n",
        "\n",
        "```"
      ]
    },
    {
      "cell_type": "code",
      "execution_count": 2,
      "id": "31ecde34",
      "metadata": {
        "id": "31ecde34"
      },
      "outputs": [],
      "source": [
        "import numpy as np"
      ]
    },
    {
      "cell_type": "code",
      "source": [
        "import numpy as np\n",
        "\n",
        "class SimplifiedBaggingRegressor:\n",
        "    def __init__(self, num_bags, oob=False):\n",
        "        self.num_bags = num_bags\n",
        "        self.oob = oob\n",
        "\n",
        "    def _generate_splits(self, data: np.ndarray):\n",
        "        '''\n",
        "        Generate indices for every bag and store in self.indices_list list.\n",
        "        '''\n",
        "        self.indices_list = []\n",
        "        data_length = len(data)\n",
        "        for bag in range(self.num_bags):\n",
        "            # Generate random indices with replacement\n",
        "            indices = np.random.randint(0, data_length, data_length)\n",
        "            self.indices_list.append(indices)\n",
        "\n",
        "    def fit(self, model_constructor, data, target):\n",
        "        '''\n",
        "        Fit model on every bag.\n",
        "        Model constructor with no parameters (and with no ()) is passed to this function.\n",
        "\n",
        "        example:\n",
        "\n",
        "        bagging_regressor = SimplifiedBaggingRegressor(num_bags=10, oob=True)\n",
        "        bagging_regressor.fit(LinearRegression, X, y)\n",
        "        '''\n",
        "        self.data = None\n",
        "        self.target = None\n",
        "        self._generate_splits(data)\n",
        "        assert len(set(list(map(len, self.indices_list)))) == 1, 'All bags should be of the same length!'\n",
        "        assert list(map(len, self.indices_list))[0] == len(data), 'All bags should contain `len(data)` number of elements!'\n",
        "        self.models_list = []\n",
        "        for bag in range(self.num_bags):\n",
        "            model = model_constructor()\n",
        "            indices = self.indices_list[bag]\n",
        "            data_bag, target_bag = data[indices], target[indices]\n",
        "            self.models_list.append(model.fit(data_bag, target_bag))\n",
        "        if self.oob:\n",
        "            self.data = data\n",
        "            self.target = target\n",
        "\n",
        "    def predict(self, data):\n",
        "        '''\n",
        "        Get average prediction for every object from passed dataset\n",
        "        '''\n",
        "        predictions = np.zeros((data.shape[0], self.num_bags))\n",
        "        for i, model in enumerate(self.models_list):\n",
        "            predictions[:, i] = model.predict(data)\n",
        "        return np.mean(predictions, axis=1)\n",
        "\n",
        "    def _get_oob_predictions_from_every_model(self):\n",
        "        '''\n",
        "        Generates list of lists, where list i contains predictions for self.data[i] object\n",
        "        from all models, which have not seen this object during training phase.\n",
        "        '''\n",
        "        list_of_predictions_lists = [[] for _ in range(len(self.data))]\n",
        "        for i, model in enumerate(self.models_list):\n",
        "            oob_indices = np.setdiff1d(np.arange(len(self.data)), self.indices_list[i])  # Indices not in the bag\n",
        "            if len(oob_indices) > 0:\n",
        "                predictions = model.predict(self.data[oob_indices])\n",
        "                for idx, prediction in zip(oob_indices, predictions):\n",
        "                    list_of_predictions_lists[idx].append(prediction)\n",
        "\n",
        "        self.list_of_predictions_lists = np.array(list_of_predictions_lists, dtype=object)\n",
        "\n",
        "    def _get_averaged_oob_predictions(self):\n",
        "        '''\n",
        "        Compute average prediction for every object from training set.\n",
        "        If object has been used in all bags on training phase, return None instead of prediction.\n",
        "        '''\n",
        "        self._get_oob_predictions_from_every_model()\n",
        "        self.oob_predictions = np.array([\n",
        "            np.mean(predictions) if len(predictions) > 0 else None\n",
        "            for predictions in self.list_of_predictions_lists\n",
        "        ])\n",
        "\n",
        "    def OOB_score(self):\n",
        "        '''\n",
        "        Compute mean square error for all objects, which have at least one prediction.\n",
        "        '''\n",
        "        self._get_averaged_oob_predictions()\n",
        "        errors = []\n",
        "        for i in range(len(self.oob_predictions)):\n",
        "            if self.oob_predictions[i] is not None:\n",
        "                error = (self.oob_predictions[i] - self.target[i])**2\n",
        "                errors.append(error)\n",
        "        return np.mean(errors) if errors else None"
      ],
      "metadata": {
        "id": "nyBvoHy8gHGX"
      },
      "id": "nyBvoHy8gHGX",
      "execution_count": 4,
      "outputs": []
    },
    {
      "cell_type": "markdown",
      "id": "5cfa174f",
      "metadata": {
        "id": "5cfa174f"
      },
      "source": [
        "### Local tests:"
      ]
    },
    {
      "cell_type": "code",
      "execution_count": 5,
      "id": "eaa2e710",
      "metadata": {
        "id": "eaa2e710"
      },
      "outputs": [],
      "source": [
        "from sklearn.linear_model import LinearRegression\n",
        "from tqdm.auto import tqdm"
      ]
    },
    {
      "cell_type": "markdown",
      "id": "b54221c2",
      "metadata": {
        "id": "b54221c2"
      },
      "source": [
        "#### Simple tests:"
      ]
    },
    {
      "cell_type": "code",
      "execution_count": 6,
      "id": "84c94a8b",
      "metadata": {
        "id": "84c94a8b",
        "colab": {
          "base_uri": "https://localhost:8080/",
          "height": 66,
          "referenced_widgets": [
            "800e532002f84b50af54338bf848f6ae",
            "4567d6b3a6574a7daacedb20552d4e78",
            "f6c8127d12af4aad90163a596440fd6f",
            "1fef995b81714382ac51277567dac19d",
            "2315904b3d834664936278a74f4c75f6",
            "46de2a11e1324dda99f5fcec9516c578",
            "b31642a0181449b89fa6a8db69c20ae5",
            "69e21d298e894a00a503b56a86e5e864",
            "06d4abaae76d46edb1b14d3dccfea2b4",
            "ca4d86272caf454e82783da63b19d335",
            "621e8d98098c4eec98685a43282c90e1"
          ]
        },
        "outputId": "611cc3c2-98dc-4bf0-adbc-f43192d6abcf"
      },
      "outputs": [
        {
          "output_type": "display_data",
          "data": {
            "text/plain": [
              "  0%|          | 0/100 [00:00<?, ?it/s]"
            ],
            "application/vnd.jupyter.widget-view+json": {
              "version_major": 2,
              "version_minor": 0,
              "model_id": "800e532002f84b50af54338bf848f6ae"
            }
          },
          "metadata": {}
        },
        {
          "output_type": "stream",
          "name": "stdout",
          "text": [
            "Simple tests done!\n"
          ]
        }
      ],
      "source": [
        "for _ in tqdm(range(100)):\n",
        "    X = np.random.randn(2000, 10)\n",
        "    y = np.mean(X, axis=1)\n",
        "    bagging_regressor = SimplifiedBaggingRegressor(num_bags=10, oob=True)\n",
        "    bagging_regressor.fit(LinearRegression, X, y)\n",
        "    predictions = bagging_regressor.predict(X)\n",
        "    assert np.mean((predictions - y)**2) < 1e-6, 'Linear dependency should be fitted with almost zero error!'\n",
        "    assert bagging_regressor.oob, 'OOB feature must be turned on'\n",
        "    oob_score = bagging_regressor.OOB_score()\n",
        "    assert oob_score < 1e-6, 'OOB error for linear dependency should be also close to zero!'\n",
        "    assert abs(\n",
        "        np.mean(\n",
        "            list(map(len, bagging_regressor.list_of_predictions_lists))\n",
        "        ) / bagging_regressor.num_bags - 1/np.exp(1)) < 0.1, 'Probability of missing a bag should be close to theoretical value!'\n",
        "\n",
        "print('Simple tests done!')"
      ]
    },
    {
      "cell_type": "markdown",
      "id": "4be4d037",
      "metadata": {
        "id": "4be4d037"
      },
      "source": [
        "#### Medium tests"
      ]
    },
    {
      "cell_type": "code",
      "execution_count": 7,
      "id": "0cfd3a21",
      "metadata": {
        "id": "0cfd3a21",
        "colab": {
          "base_uri": "https://localhost:8080/",
          "height": 66,
          "referenced_widgets": [
            "8de6e3ab951a45838b65a5af065254ce",
            "0f3aa06550bb462c8f1fc5beb8cf38c2",
            "cc2669022de0410fa75a92a8d7f38201",
            "206d4e625e3c45fe8663e6c14412a31f",
            "6ec37e715ec947078cd9b0ecb807b17c",
            "601ea54d3be5462da1a312bdcb598266",
            "0cacb75e12c3483a837d960619512ac7",
            "b33118025a224c999448071d943c1ad9",
            "e00549b3a7474a0dbefc7613d1934491",
            "d7d4b7a7d5e24b748837aa8132314dfd",
            "46640a9818394ca3a2f5b8c691557f66"
          ]
        },
        "outputId": "dca87b18-d3f1-4393-8e4e-4cfabd09ba90"
      },
      "outputs": [
        {
          "output_type": "display_data",
          "data": {
            "text/plain": [
              "  0%|          | 0/10 [00:00<?, ?it/s]"
            ],
            "application/vnd.jupyter.widget-view+json": {
              "version_major": 2,
              "version_minor": 0,
              "model_id": "8de6e3ab951a45838b65a5af065254ce"
            }
          },
          "metadata": {}
        },
        {
          "output_type": "stream",
          "name": "stdout",
          "text": [
            "Medium tests done!\n"
          ]
        }
      ],
      "source": [
        "for _ in tqdm(range(10)):\n",
        "    X = np.random.randn(200, 150)\n",
        "    y = np.random.randn(len(X))\n",
        "    bagging_regressor = SimplifiedBaggingRegressor(num_bags=20, oob=True)\n",
        "    bagging_regressor.fit(LinearRegression, X, y)\n",
        "    predictions = bagging_regressor.predict(X)\n",
        "    average_train_error = np.mean((predictions - y)**2)\n",
        "    assert bagging_regressor.oob, 'OOB feature must be turned on'\n",
        "    oob_score = bagging_regressor.OOB_score()\n",
        "    assert oob_score > average_train_error, 'OOB error must be higher than train error due to overfitting!'\n",
        "    assert abs(\n",
        "        np.mean(\n",
        "            list(map(len, bagging_regressor.list_of_predictions_lists))\n",
        "        ) / bagging_regressor.num_bags - 1/np.exp(1)) < 0.1, 'Probability of missing a bag should be close to theoretical value!'\n",
        "\n",
        "print('Medium tests done!')"
      ]
    },
    {
      "cell_type": "markdown",
      "id": "725818ff",
      "metadata": {
        "id": "725818ff"
      },
      "source": [
        "#### Complex tests:"
      ]
    },
    {
      "cell_type": "code",
      "execution_count": 8,
      "id": "8f929d6b",
      "metadata": {
        "id": "8f929d6b",
        "colab": {
          "base_uri": "https://localhost:8080/",
          "height": 66,
          "referenced_widgets": [
            "598a164124e046ad86040647c25823dd",
            "99a8667dfbab437f8074371561e8da70",
            "2351b66b276b447081a3fe12433a3869",
            "3850fcc57c804490991b85cb568e5176",
            "04b3427497f746be99b6280727d2ea80",
            "6d54df7134474282a51f036f6da57b29",
            "bbacaabbd3ac4848b1c105d2b0de45e9",
            "7acc4c3908d5407895063bcd79756c2b",
            "6b2560c2b4bc47268978faa65cb9040b",
            "a8dc181735aa42faac023b0b0ab6a41f",
            "5f7382af5cc14d9790e179092a087f57"
          ]
        },
        "outputId": "f6ed1471-9974-44de-8cae-d91cd1f92dc5"
      },
      "outputs": [
        {
          "output_type": "display_data",
          "data": {
            "text/plain": [
              "  0%|          | 0/10 [00:00<?, ?it/s]"
            ],
            "application/vnd.jupyter.widget-view+json": {
              "version_major": 2,
              "version_minor": 0,
              "model_id": "598a164124e046ad86040647c25823dd"
            }
          },
          "metadata": {}
        },
        {
          "output_type": "stream",
          "name": "stdout",
          "text": [
            "Complex tests done!\n"
          ]
        }
      ],
      "source": [
        "for _ in tqdm(range(10)):\n",
        "    X = np.random.randn(2000, 15)\n",
        "    y = np.random.randn(len(X))\n",
        "    bagging_regressor = SimplifiedBaggingRegressor(num_bags=100, oob=True)\n",
        "    bagging_regressor.fit(LinearRegression, X, y)\n",
        "    predictions = bagging_regressor.predict(X)\n",
        "    oob_score = bagging_regressor.OOB_score()\n",
        "    assert abs(\n",
        "        np.mean(\n",
        "            list(map(len, bagging_regressor.list_of_predictions_lists))\n",
        "        ) / bagging_regressor.num_bags - 1/np.exp(1)) < 1e-2, 'Probability of missing a bag should be close to theoretical value!'\n",
        "\n",
        "print('Complex tests done!')"
      ]
    },
    {
      "cell_type": "code",
      "execution_count": 9,
      "id": "af170ef8",
      "metadata": {
        "id": "af170ef8",
        "colab": {
          "base_uri": "https://localhost:8080/"
        },
        "outputId": "037549db-ec71-4455-8a41-8610ed75a6ce"
      },
      "outputs": [
        {
          "output_type": "execute_result",
          "data": {
            "text/plain": [
              "-9.944117144233822e-05"
            ]
          },
          "metadata": {},
          "execution_count": 9
        }
      ],
      "source": [
        "np.mean(\n",
        "            list(map(len, bagging_regressor.list_of_predictions_lists))\n",
        "        ) / bagging_regressor.num_bags - 1/np.exp(1)"
      ]
    },
    {
      "cell_type": "markdown",
      "id": "9535cb6d",
      "metadata": {
        "id": "9535cb6d"
      },
      "source": [
        "Great job! Please, save `SimplifiedBaggingRegressor` to  `bagging.py` and submit your solution to the grading system!"
      ]
    }
  ],
  "metadata": {
    "kernelspec": {
      "display_name": "Py3 Research",
      "language": "python",
      "name": "py3_research"
    },
    "language_info": {
      "codemirror_mode": {
        "name": "ipython",
        "version": 3
      },
      "file_extension": ".py",
      "mimetype": "text/x-python",
      "name": "python",
      "nbconvert_exporter": "python",
      "pygments_lexer": "ipython3",
      "version": "3.9.16"
    },
    "colab": {
      "provenance": [],
      "include_colab_link": true
    },
    "widgets": {
      "application/vnd.jupyter.widget-state+json": {
        "800e532002f84b50af54338bf848f6ae": {
          "model_module": "@jupyter-widgets/controls",
          "model_name": "HBoxModel",
          "model_module_version": "1.5.0",
          "state": {
            "_dom_classes": [],
            "_model_module": "@jupyter-widgets/controls",
            "_model_module_version": "1.5.0",
            "_model_name": "HBoxModel",
            "_view_count": null,
            "_view_module": "@jupyter-widgets/controls",
            "_view_module_version": "1.5.0",
            "_view_name": "HBoxView",
            "box_style": "",
            "children": [
              "IPY_MODEL_4567d6b3a6574a7daacedb20552d4e78",
              "IPY_MODEL_f6c8127d12af4aad90163a596440fd6f",
              "IPY_MODEL_1fef995b81714382ac51277567dac19d"
            ],
            "layout": "IPY_MODEL_2315904b3d834664936278a74f4c75f6"
          }
        },
        "4567d6b3a6574a7daacedb20552d4e78": {
          "model_module": "@jupyter-widgets/controls",
          "model_name": "HTMLModel",
          "model_module_version": "1.5.0",
          "state": {
            "_dom_classes": [],
            "_model_module": "@jupyter-widgets/controls",
            "_model_module_version": "1.5.0",
            "_model_name": "HTMLModel",
            "_view_count": null,
            "_view_module": "@jupyter-widgets/controls",
            "_view_module_version": "1.5.0",
            "_view_name": "HTMLView",
            "description": "",
            "description_tooltip": null,
            "layout": "IPY_MODEL_46de2a11e1324dda99f5fcec9516c578",
            "placeholder": "​",
            "style": "IPY_MODEL_b31642a0181449b89fa6a8db69c20ae5",
            "value": "100%"
          }
        },
        "f6c8127d12af4aad90163a596440fd6f": {
          "model_module": "@jupyter-widgets/controls",
          "model_name": "FloatProgressModel",
          "model_module_version": "1.5.0",
          "state": {
            "_dom_classes": [],
            "_model_module": "@jupyter-widgets/controls",
            "_model_module_version": "1.5.0",
            "_model_name": "FloatProgressModel",
            "_view_count": null,
            "_view_module": "@jupyter-widgets/controls",
            "_view_module_version": "1.5.0",
            "_view_name": "ProgressView",
            "bar_style": "success",
            "description": "",
            "description_tooltip": null,
            "layout": "IPY_MODEL_69e21d298e894a00a503b56a86e5e864",
            "max": 100,
            "min": 0,
            "orientation": "horizontal",
            "style": "IPY_MODEL_06d4abaae76d46edb1b14d3dccfea2b4",
            "value": 100
          }
        },
        "1fef995b81714382ac51277567dac19d": {
          "model_module": "@jupyter-widgets/controls",
          "model_name": "HTMLModel",
          "model_module_version": "1.5.0",
          "state": {
            "_dom_classes": [],
            "_model_module": "@jupyter-widgets/controls",
            "_model_module_version": "1.5.0",
            "_model_name": "HTMLModel",
            "_view_count": null,
            "_view_module": "@jupyter-widgets/controls",
            "_view_module_version": "1.5.0",
            "_view_name": "HTMLView",
            "description": "",
            "description_tooltip": null,
            "layout": "IPY_MODEL_ca4d86272caf454e82783da63b19d335",
            "placeholder": "​",
            "style": "IPY_MODEL_621e8d98098c4eec98685a43282c90e1",
            "value": " 100/100 [00:15&lt;00:00,  8.27it/s]"
          }
        },
        "2315904b3d834664936278a74f4c75f6": {
          "model_module": "@jupyter-widgets/base",
          "model_name": "LayoutModel",
          "model_module_version": "1.2.0",
          "state": {
            "_model_module": "@jupyter-widgets/base",
            "_model_module_version": "1.2.0",
            "_model_name": "LayoutModel",
            "_view_count": null,
            "_view_module": "@jupyter-widgets/base",
            "_view_module_version": "1.2.0",
            "_view_name": "LayoutView",
            "align_content": null,
            "align_items": null,
            "align_self": null,
            "border": null,
            "bottom": null,
            "display": null,
            "flex": null,
            "flex_flow": null,
            "grid_area": null,
            "grid_auto_columns": null,
            "grid_auto_flow": null,
            "grid_auto_rows": null,
            "grid_column": null,
            "grid_gap": null,
            "grid_row": null,
            "grid_template_areas": null,
            "grid_template_columns": null,
            "grid_template_rows": null,
            "height": null,
            "justify_content": null,
            "justify_items": null,
            "left": null,
            "margin": null,
            "max_height": null,
            "max_width": null,
            "min_height": null,
            "min_width": null,
            "object_fit": null,
            "object_position": null,
            "order": null,
            "overflow": null,
            "overflow_x": null,
            "overflow_y": null,
            "padding": null,
            "right": null,
            "top": null,
            "visibility": null,
            "width": null
          }
        },
        "46de2a11e1324dda99f5fcec9516c578": {
          "model_module": "@jupyter-widgets/base",
          "model_name": "LayoutModel",
          "model_module_version": "1.2.0",
          "state": {
            "_model_module": "@jupyter-widgets/base",
            "_model_module_version": "1.2.0",
            "_model_name": "LayoutModel",
            "_view_count": null,
            "_view_module": "@jupyter-widgets/base",
            "_view_module_version": "1.2.0",
            "_view_name": "LayoutView",
            "align_content": null,
            "align_items": null,
            "align_self": null,
            "border": null,
            "bottom": null,
            "display": null,
            "flex": null,
            "flex_flow": null,
            "grid_area": null,
            "grid_auto_columns": null,
            "grid_auto_flow": null,
            "grid_auto_rows": null,
            "grid_column": null,
            "grid_gap": null,
            "grid_row": null,
            "grid_template_areas": null,
            "grid_template_columns": null,
            "grid_template_rows": null,
            "height": null,
            "justify_content": null,
            "justify_items": null,
            "left": null,
            "margin": null,
            "max_height": null,
            "max_width": null,
            "min_height": null,
            "min_width": null,
            "object_fit": null,
            "object_position": null,
            "order": null,
            "overflow": null,
            "overflow_x": null,
            "overflow_y": null,
            "padding": null,
            "right": null,
            "top": null,
            "visibility": null,
            "width": null
          }
        },
        "b31642a0181449b89fa6a8db69c20ae5": {
          "model_module": "@jupyter-widgets/controls",
          "model_name": "DescriptionStyleModel",
          "model_module_version": "1.5.0",
          "state": {
            "_model_module": "@jupyter-widgets/controls",
            "_model_module_version": "1.5.0",
            "_model_name": "DescriptionStyleModel",
            "_view_count": null,
            "_view_module": "@jupyter-widgets/base",
            "_view_module_version": "1.2.0",
            "_view_name": "StyleView",
            "description_width": ""
          }
        },
        "69e21d298e894a00a503b56a86e5e864": {
          "model_module": "@jupyter-widgets/base",
          "model_name": "LayoutModel",
          "model_module_version": "1.2.0",
          "state": {
            "_model_module": "@jupyter-widgets/base",
            "_model_module_version": "1.2.0",
            "_model_name": "LayoutModel",
            "_view_count": null,
            "_view_module": "@jupyter-widgets/base",
            "_view_module_version": "1.2.0",
            "_view_name": "LayoutView",
            "align_content": null,
            "align_items": null,
            "align_self": null,
            "border": null,
            "bottom": null,
            "display": null,
            "flex": null,
            "flex_flow": null,
            "grid_area": null,
            "grid_auto_columns": null,
            "grid_auto_flow": null,
            "grid_auto_rows": null,
            "grid_column": null,
            "grid_gap": null,
            "grid_row": null,
            "grid_template_areas": null,
            "grid_template_columns": null,
            "grid_template_rows": null,
            "height": null,
            "justify_content": null,
            "justify_items": null,
            "left": null,
            "margin": null,
            "max_height": null,
            "max_width": null,
            "min_height": null,
            "min_width": null,
            "object_fit": null,
            "object_position": null,
            "order": null,
            "overflow": null,
            "overflow_x": null,
            "overflow_y": null,
            "padding": null,
            "right": null,
            "top": null,
            "visibility": null,
            "width": null
          }
        },
        "06d4abaae76d46edb1b14d3dccfea2b4": {
          "model_module": "@jupyter-widgets/controls",
          "model_name": "ProgressStyleModel",
          "model_module_version": "1.5.0",
          "state": {
            "_model_module": "@jupyter-widgets/controls",
            "_model_module_version": "1.5.0",
            "_model_name": "ProgressStyleModel",
            "_view_count": null,
            "_view_module": "@jupyter-widgets/base",
            "_view_module_version": "1.2.0",
            "_view_name": "StyleView",
            "bar_color": null,
            "description_width": ""
          }
        },
        "ca4d86272caf454e82783da63b19d335": {
          "model_module": "@jupyter-widgets/base",
          "model_name": "LayoutModel",
          "model_module_version": "1.2.0",
          "state": {
            "_model_module": "@jupyter-widgets/base",
            "_model_module_version": "1.2.0",
            "_model_name": "LayoutModel",
            "_view_count": null,
            "_view_module": "@jupyter-widgets/base",
            "_view_module_version": "1.2.0",
            "_view_name": "LayoutView",
            "align_content": null,
            "align_items": null,
            "align_self": null,
            "border": null,
            "bottom": null,
            "display": null,
            "flex": null,
            "flex_flow": null,
            "grid_area": null,
            "grid_auto_columns": null,
            "grid_auto_flow": null,
            "grid_auto_rows": null,
            "grid_column": null,
            "grid_gap": null,
            "grid_row": null,
            "grid_template_areas": null,
            "grid_template_columns": null,
            "grid_template_rows": null,
            "height": null,
            "justify_content": null,
            "justify_items": null,
            "left": null,
            "margin": null,
            "max_height": null,
            "max_width": null,
            "min_height": null,
            "min_width": null,
            "object_fit": null,
            "object_position": null,
            "order": null,
            "overflow": null,
            "overflow_x": null,
            "overflow_y": null,
            "padding": null,
            "right": null,
            "top": null,
            "visibility": null,
            "width": null
          }
        },
        "621e8d98098c4eec98685a43282c90e1": {
          "model_module": "@jupyter-widgets/controls",
          "model_name": "DescriptionStyleModel",
          "model_module_version": "1.5.0",
          "state": {
            "_model_module": "@jupyter-widgets/controls",
            "_model_module_version": "1.5.0",
            "_model_name": "DescriptionStyleModel",
            "_view_count": null,
            "_view_module": "@jupyter-widgets/base",
            "_view_module_version": "1.2.0",
            "_view_name": "StyleView",
            "description_width": ""
          }
        },
        "8de6e3ab951a45838b65a5af065254ce": {
          "model_module": "@jupyter-widgets/controls",
          "model_name": "HBoxModel",
          "model_module_version": "1.5.0",
          "state": {
            "_dom_classes": [],
            "_model_module": "@jupyter-widgets/controls",
            "_model_module_version": "1.5.0",
            "_model_name": "HBoxModel",
            "_view_count": null,
            "_view_module": "@jupyter-widgets/controls",
            "_view_module_version": "1.5.0",
            "_view_name": "HBoxView",
            "box_style": "",
            "children": [
              "IPY_MODEL_0f3aa06550bb462c8f1fc5beb8cf38c2",
              "IPY_MODEL_cc2669022de0410fa75a92a8d7f38201",
              "IPY_MODEL_206d4e625e3c45fe8663e6c14412a31f"
            ],
            "layout": "IPY_MODEL_6ec37e715ec947078cd9b0ecb807b17c"
          }
        },
        "0f3aa06550bb462c8f1fc5beb8cf38c2": {
          "model_module": "@jupyter-widgets/controls",
          "model_name": "HTMLModel",
          "model_module_version": "1.5.0",
          "state": {
            "_dom_classes": [],
            "_model_module": "@jupyter-widgets/controls",
            "_model_module_version": "1.5.0",
            "_model_name": "HTMLModel",
            "_view_count": null,
            "_view_module": "@jupyter-widgets/controls",
            "_view_module_version": "1.5.0",
            "_view_name": "HTMLView",
            "description": "",
            "description_tooltip": null,
            "layout": "IPY_MODEL_601ea54d3be5462da1a312bdcb598266",
            "placeholder": "​",
            "style": "IPY_MODEL_0cacb75e12c3483a837d960619512ac7",
            "value": "100%"
          }
        },
        "cc2669022de0410fa75a92a8d7f38201": {
          "model_module": "@jupyter-widgets/controls",
          "model_name": "FloatProgressModel",
          "model_module_version": "1.5.0",
          "state": {
            "_dom_classes": [],
            "_model_module": "@jupyter-widgets/controls",
            "_model_module_version": "1.5.0",
            "_model_name": "FloatProgressModel",
            "_view_count": null,
            "_view_module": "@jupyter-widgets/controls",
            "_view_module_version": "1.5.0",
            "_view_name": "ProgressView",
            "bar_style": "success",
            "description": "",
            "description_tooltip": null,
            "layout": "IPY_MODEL_b33118025a224c999448071d943c1ad9",
            "max": 10,
            "min": 0,
            "orientation": "horizontal",
            "style": "IPY_MODEL_e00549b3a7474a0dbefc7613d1934491",
            "value": 10
          }
        },
        "206d4e625e3c45fe8663e6c14412a31f": {
          "model_module": "@jupyter-widgets/controls",
          "model_name": "HTMLModel",
          "model_module_version": "1.5.0",
          "state": {
            "_dom_classes": [],
            "_model_module": "@jupyter-widgets/controls",
            "_model_module_version": "1.5.0",
            "_model_name": "HTMLModel",
            "_view_count": null,
            "_view_module": "@jupyter-widgets/controls",
            "_view_module_version": "1.5.0",
            "_view_name": "HTMLView",
            "description": "",
            "description_tooltip": null,
            "layout": "IPY_MODEL_d7d4b7a7d5e24b748837aa8132314dfd",
            "placeholder": "​",
            "style": "IPY_MODEL_46640a9818394ca3a2f5b8c691557f66",
            "value": " 10/10 [00:02&lt;00:00,  4.07it/s]"
          }
        },
        "6ec37e715ec947078cd9b0ecb807b17c": {
          "model_module": "@jupyter-widgets/base",
          "model_name": "LayoutModel",
          "model_module_version": "1.2.0",
          "state": {
            "_model_module": "@jupyter-widgets/base",
            "_model_module_version": "1.2.0",
            "_model_name": "LayoutModel",
            "_view_count": null,
            "_view_module": "@jupyter-widgets/base",
            "_view_module_version": "1.2.0",
            "_view_name": "LayoutView",
            "align_content": null,
            "align_items": null,
            "align_self": null,
            "border": null,
            "bottom": null,
            "display": null,
            "flex": null,
            "flex_flow": null,
            "grid_area": null,
            "grid_auto_columns": null,
            "grid_auto_flow": null,
            "grid_auto_rows": null,
            "grid_column": null,
            "grid_gap": null,
            "grid_row": null,
            "grid_template_areas": null,
            "grid_template_columns": null,
            "grid_template_rows": null,
            "height": null,
            "justify_content": null,
            "justify_items": null,
            "left": null,
            "margin": null,
            "max_height": null,
            "max_width": null,
            "min_height": null,
            "min_width": null,
            "object_fit": null,
            "object_position": null,
            "order": null,
            "overflow": null,
            "overflow_x": null,
            "overflow_y": null,
            "padding": null,
            "right": null,
            "top": null,
            "visibility": null,
            "width": null
          }
        },
        "601ea54d3be5462da1a312bdcb598266": {
          "model_module": "@jupyter-widgets/base",
          "model_name": "LayoutModel",
          "model_module_version": "1.2.0",
          "state": {
            "_model_module": "@jupyter-widgets/base",
            "_model_module_version": "1.2.0",
            "_model_name": "LayoutModel",
            "_view_count": null,
            "_view_module": "@jupyter-widgets/base",
            "_view_module_version": "1.2.0",
            "_view_name": "LayoutView",
            "align_content": null,
            "align_items": null,
            "align_self": null,
            "border": null,
            "bottom": null,
            "display": null,
            "flex": null,
            "flex_flow": null,
            "grid_area": null,
            "grid_auto_columns": null,
            "grid_auto_flow": null,
            "grid_auto_rows": null,
            "grid_column": null,
            "grid_gap": null,
            "grid_row": null,
            "grid_template_areas": null,
            "grid_template_columns": null,
            "grid_template_rows": null,
            "height": null,
            "justify_content": null,
            "justify_items": null,
            "left": null,
            "margin": null,
            "max_height": null,
            "max_width": null,
            "min_height": null,
            "min_width": null,
            "object_fit": null,
            "object_position": null,
            "order": null,
            "overflow": null,
            "overflow_x": null,
            "overflow_y": null,
            "padding": null,
            "right": null,
            "top": null,
            "visibility": null,
            "width": null
          }
        },
        "0cacb75e12c3483a837d960619512ac7": {
          "model_module": "@jupyter-widgets/controls",
          "model_name": "DescriptionStyleModel",
          "model_module_version": "1.5.0",
          "state": {
            "_model_module": "@jupyter-widgets/controls",
            "_model_module_version": "1.5.0",
            "_model_name": "DescriptionStyleModel",
            "_view_count": null,
            "_view_module": "@jupyter-widgets/base",
            "_view_module_version": "1.2.0",
            "_view_name": "StyleView",
            "description_width": ""
          }
        },
        "b33118025a224c999448071d943c1ad9": {
          "model_module": "@jupyter-widgets/base",
          "model_name": "LayoutModel",
          "model_module_version": "1.2.0",
          "state": {
            "_model_module": "@jupyter-widgets/base",
            "_model_module_version": "1.2.0",
            "_model_name": "LayoutModel",
            "_view_count": null,
            "_view_module": "@jupyter-widgets/base",
            "_view_module_version": "1.2.0",
            "_view_name": "LayoutView",
            "align_content": null,
            "align_items": null,
            "align_self": null,
            "border": null,
            "bottom": null,
            "display": null,
            "flex": null,
            "flex_flow": null,
            "grid_area": null,
            "grid_auto_columns": null,
            "grid_auto_flow": null,
            "grid_auto_rows": null,
            "grid_column": null,
            "grid_gap": null,
            "grid_row": null,
            "grid_template_areas": null,
            "grid_template_columns": null,
            "grid_template_rows": null,
            "height": null,
            "justify_content": null,
            "justify_items": null,
            "left": null,
            "margin": null,
            "max_height": null,
            "max_width": null,
            "min_height": null,
            "min_width": null,
            "object_fit": null,
            "object_position": null,
            "order": null,
            "overflow": null,
            "overflow_x": null,
            "overflow_y": null,
            "padding": null,
            "right": null,
            "top": null,
            "visibility": null,
            "width": null
          }
        },
        "e00549b3a7474a0dbefc7613d1934491": {
          "model_module": "@jupyter-widgets/controls",
          "model_name": "ProgressStyleModel",
          "model_module_version": "1.5.0",
          "state": {
            "_model_module": "@jupyter-widgets/controls",
            "_model_module_version": "1.5.0",
            "_model_name": "ProgressStyleModel",
            "_view_count": null,
            "_view_module": "@jupyter-widgets/base",
            "_view_module_version": "1.2.0",
            "_view_name": "StyleView",
            "bar_color": null,
            "description_width": ""
          }
        },
        "d7d4b7a7d5e24b748837aa8132314dfd": {
          "model_module": "@jupyter-widgets/base",
          "model_name": "LayoutModel",
          "model_module_version": "1.2.0",
          "state": {
            "_model_module": "@jupyter-widgets/base",
            "_model_module_version": "1.2.0",
            "_model_name": "LayoutModel",
            "_view_count": null,
            "_view_module": "@jupyter-widgets/base",
            "_view_module_version": "1.2.0",
            "_view_name": "LayoutView",
            "align_content": null,
            "align_items": null,
            "align_self": null,
            "border": null,
            "bottom": null,
            "display": null,
            "flex": null,
            "flex_flow": null,
            "grid_area": null,
            "grid_auto_columns": null,
            "grid_auto_flow": null,
            "grid_auto_rows": null,
            "grid_column": null,
            "grid_gap": null,
            "grid_row": null,
            "grid_template_areas": null,
            "grid_template_columns": null,
            "grid_template_rows": null,
            "height": null,
            "justify_content": null,
            "justify_items": null,
            "left": null,
            "margin": null,
            "max_height": null,
            "max_width": null,
            "min_height": null,
            "min_width": null,
            "object_fit": null,
            "object_position": null,
            "order": null,
            "overflow": null,
            "overflow_x": null,
            "overflow_y": null,
            "padding": null,
            "right": null,
            "top": null,
            "visibility": null,
            "width": null
          }
        },
        "46640a9818394ca3a2f5b8c691557f66": {
          "model_module": "@jupyter-widgets/controls",
          "model_name": "DescriptionStyleModel",
          "model_module_version": "1.5.0",
          "state": {
            "_model_module": "@jupyter-widgets/controls",
            "_model_module_version": "1.5.0",
            "_model_name": "DescriptionStyleModel",
            "_view_count": null,
            "_view_module": "@jupyter-widgets/base",
            "_view_module_version": "1.2.0",
            "_view_name": "StyleView",
            "description_width": ""
          }
        },
        "598a164124e046ad86040647c25823dd": {
          "model_module": "@jupyter-widgets/controls",
          "model_name": "HBoxModel",
          "model_module_version": "1.5.0",
          "state": {
            "_dom_classes": [],
            "_model_module": "@jupyter-widgets/controls",
            "_model_module_version": "1.5.0",
            "_model_name": "HBoxModel",
            "_view_count": null,
            "_view_module": "@jupyter-widgets/controls",
            "_view_module_version": "1.5.0",
            "_view_name": "HBoxView",
            "box_style": "",
            "children": [
              "IPY_MODEL_99a8667dfbab437f8074371561e8da70",
              "IPY_MODEL_2351b66b276b447081a3fe12433a3869",
              "IPY_MODEL_3850fcc57c804490991b85cb568e5176"
            ],
            "layout": "IPY_MODEL_04b3427497f746be99b6280727d2ea80"
          }
        },
        "99a8667dfbab437f8074371561e8da70": {
          "model_module": "@jupyter-widgets/controls",
          "model_name": "HTMLModel",
          "model_module_version": "1.5.0",
          "state": {
            "_dom_classes": [],
            "_model_module": "@jupyter-widgets/controls",
            "_model_module_version": "1.5.0",
            "_model_name": "HTMLModel",
            "_view_count": null,
            "_view_module": "@jupyter-widgets/controls",
            "_view_module_version": "1.5.0",
            "_view_name": "HTMLView",
            "description": "",
            "description_tooltip": null,
            "layout": "IPY_MODEL_6d54df7134474282a51f036f6da57b29",
            "placeholder": "​",
            "style": "IPY_MODEL_bbacaabbd3ac4848b1c105d2b0de45e9",
            "value": "100%"
          }
        },
        "2351b66b276b447081a3fe12433a3869": {
          "model_module": "@jupyter-widgets/controls",
          "model_name": "FloatProgressModel",
          "model_module_version": "1.5.0",
          "state": {
            "_dom_classes": [],
            "_model_module": "@jupyter-widgets/controls",
            "_model_module_version": "1.5.0",
            "_model_name": "FloatProgressModel",
            "_view_count": null,
            "_view_module": "@jupyter-widgets/controls",
            "_view_module_version": "1.5.0",
            "_view_name": "ProgressView",
            "bar_style": "success",
            "description": "",
            "description_tooltip": null,
            "layout": "IPY_MODEL_7acc4c3908d5407895063bcd79756c2b",
            "max": 10,
            "min": 0,
            "orientation": "horizontal",
            "style": "IPY_MODEL_6b2560c2b4bc47268978faa65cb9040b",
            "value": 10
          }
        },
        "3850fcc57c804490991b85cb568e5176": {
          "model_module": "@jupyter-widgets/controls",
          "model_name": "HTMLModel",
          "model_module_version": "1.5.0",
          "state": {
            "_dom_classes": [],
            "_model_module": "@jupyter-widgets/controls",
            "_model_module_version": "1.5.0",
            "_model_name": "HTMLModel",
            "_view_count": null,
            "_view_module": "@jupyter-widgets/controls",
            "_view_module_version": "1.5.0",
            "_view_name": "HTMLView",
            "description": "",
            "description_tooltip": null,
            "layout": "IPY_MODEL_a8dc181735aa42faac023b0b0ab6a41f",
            "placeholder": "​",
            "style": "IPY_MODEL_5f7382af5cc14d9790e179092a087f57",
            "value": " 10/10 [00:04&lt;00:00,  2.06it/s]"
          }
        },
        "04b3427497f746be99b6280727d2ea80": {
          "model_module": "@jupyter-widgets/base",
          "model_name": "LayoutModel",
          "model_module_version": "1.2.0",
          "state": {
            "_model_module": "@jupyter-widgets/base",
            "_model_module_version": "1.2.0",
            "_model_name": "LayoutModel",
            "_view_count": null,
            "_view_module": "@jupyter-widgets/base",
            "_view_module_version": "1.2.0",
            "_view_name": "LayoutView",
            "align_content": null,
            "align_items": null,
            "align_self": null,
            "border": null,
            "bottom": null,
            "display": null,
            "flex": null,
            "flex_flow": null,
            "grid_area": null,
            "grid_auto_columns": null,
            "grid_auto_flow": null,
            "grid_auto_rows": null,
            "grid_column": null,
            "grid_gap": null,
            "grid_row": null,
            "grid_template_areas": null,
            "grid_template_columns": null,
            "grid_template_rows": null,
            "height": null,
            "justify_content": null,
            "justify_items": null,
            "left": null,
            "margin": null,
            "max_height": null,
            "max_width": null,
            "min_height": null,
            "min_width": null,
            "object_fit": null,
            "object_position": null,
            "order": null,
            "overflow": null,
            "overflow_x": null,
            "overflow_y": null,
            "padding": null,
            "right": null,
            "top": null,
            "visibility": null,
            "width": null
          }
        },
        "6d54df7134474282a51f036f6da57b29": {
          "model_module": "@jupyter-widgets/base",
          "model_name": "LayoutModel",
          "model_module_version": "1.2.0",
          "state": {
            "_model_module": "@jupyter-widgets/base",
            "_model_module_version": "1.2.0",
            "_model_name": "LayoutModel",
            "_view_count": null,
            "_view_module": "@jupyter-widgets/base",
            "_view_module_version": "1.2.0",
            "_view_name": "LayoutView",
            "align_content": null,
            "align_items": null,
            "align_self": null,
            "border": null,
            "bottom": null,
            "display": null,
            "flex": null,
            "flex_flow": null,
            "grid_area": null,
            "grid_auto_columns": null,
            "grid_auto_flow": null,
            "grid_auto_rows": null,
            "grid_column": null,
            "grid_gap": null,
            "grid_row": null,
            "grid_template_areas": null,
            "grid_template_columns": null,
            "grid_template_rows": null,
            "height": null,
            "justify_content": null,
            "justify_items": null,
            "left": null,
            "margin": null,
            "max_height": null,
            "max_width": null,
            "min_height": null,
            "min_width": null,
            "object_fit": null,
            "object_position": null,
            "order": null,
            "overflow": null,
            "overflow_x": null,
            "overflow_y": null,
            "padding": null,
            "right": null,
            "top": null,
            "visibility": null,
            "width": null
          }
        },
        "bbacaabbd3ac4848b1c105d2b0de45e9": {
          "model_module": "@jupyter-widgets/controls",
          "model_name": "DescriptionStyleModel",
          "model_module_version": "1.5.0",
          "state": {
            "_model_module": "@jupyter-widgets/controls",
            "_model_module_version": "1.5.0",
            "_model_name": "DescriptionStyleModel",
            "_view_count": null,
            "_view_module": "@jupyter-widgets/base",
            "_view_module_version": "1.2.0",
            "_view_name": "StyleView",
            "description_width": ""
          }
        },
        "7acc4c3908d5407895063bcd79756c2b": {
          "model_module": "@jupyter-widgets/base",
          "model_name": "LayoutModel",
          "model_module_version": "1.2.0",
          "state": {
            "_model_module": "@jupyter-widgets/base",
            "_model_module_version": "1.2.0",
            "_model_name": "LayoutModel",
            "_view_count": null,
            "_view_module": "@jupyter-widgets/base",
            "_view_module_version": "1.2.0",
            "_view_name": "LayoutView",
            "align_content": null,
            "align_items": null,
            "align_self": null,
            "border": null,
            "bottom": null,
            "display": null,
            "flex": null,
            "flex_flow": null,
            "grid_area": null,
            "grid_auto_columns": null,
            "grid_auto_flow": null,
            "grid_auto_rows": null,
            "grid_column": null,
            "grid_gap": null,
            "grid_row": null,
            "grid_template_areas": null,
            "grid_template_columns": null,
            "grid_template_rows": null,
            "height": null,
            "justify_content": null,
            "justify_items": null,
            "left": null,
            "margin": null,
            "max_height": null,
            "max_width": null,
            "min_height": null,
            "min_width": null,
            "object_fit": null,
            "object_position": null,
            "order": null,
            "overflow": null,
            "overflow_x": null,
            "overflow_y": null,
            "padding": null,
            "right": null,
            "top": null,
            "visibility": null,
            "width": null
          }
        },
        "6b2560c2b4bc47268978faa65cb9040b": {
          "model_module": "@jupyter-widgets/controls",
          "model_name": "ProgressStyleModel",
          "model_module_version": "1.5.0",
          "state": {
            "_model_module": "@jupyter-widgets/controls",
            "_model_module_version": "1.5.0",
            "_model_name": "ProgressStyleModel",
            "_view_count": null,
            "_view_module": "@jupyter-widgets/base",
            "_view_module_version": "1.2.0",
            "_view_name": "StyleView",
            "bar_color": null,
            "description_width": ""
          }
        },
        "a8dc181735aa42faac023b0b0ab6a41f": {
          "model_module": "@jupyter-widgets/base",
          "model_name": "LayoutModel",
          "model_module_version": "1.2.0",
          "state": {
            "_model_module": "@jupyter-widgets/base",
            "_model_module_version": "1.2.0",
            "_model_name": "LayoutModel",
            "_view_count": null,
            "_view_module": "@jupyter-widgets/base",
            "_view_module_version": "1.2.0",
            "_view_name": "LayoutView",
            "align_content": null,
            "align_items": null,
            "align_self": null,
            "border": null,
            "bottom": null,
            "display": null,
            "flex": null,
            "flex_flow": null,
            "grid_area": null,
            "grid_auto_columns": null,
            "grid_auto_flow": null,
            "grid_auto_rows": null,
            "grid_column": null,
            "grid_gap": null,
            "grid_row": null,
            "grid_template_areas": null,
            "grid_template_columns": null,
            "grid_template_rows": null,
            "height": null,
            "justify_content": null,
            "justify_items": null,
            "left": null,
            "margin": null,
            "max_height": null,
            "max_width": null,
            "min_height": null,
            "min_width": null,
            "object_fit": null,
            "object_position": null,
            "order": null,
            "overflow": null,
            "overflow_x": null,
            "overflow_y": null,
            "padding": null,
            "right": null,
            "top": null,
            "visibility": null,
            "width": null
          }
        },
        "5f7382af5cc14d9790e179092a087f57": {
          "model_module": "@jupyter-widgets/controls",
          "model_name": "DescriptionStyleModel",
          "model_module_version": "1.5.0",
          "state": {
            "_model_module": "@jupyter-widgets/controls",
            "_model_module_version": "1.5.0",
            "_model_name": "DescriptionStyleModel",
            "_view_count": null,
            "_view_module": "@jupyter-widgets/base",
            "_view_module_version": "1.2.0",
            "_view_name": "StyleView",
            "description_width": ""
          }
        }
      }
    }
  },
  "nbformat": 4,
  "nbformat_minor": 5
}